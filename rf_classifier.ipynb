{
 "cells": [
  {
   "cell_type": "code",
   "execution_count": 1,
   "id": "c22a041f",
   "metadata": {},
   "outputs": [],
   "source": [
    "from sklearn.model_selection import train_test_split\n",
    "from sklearn.ensemble import RandomForestClassifier\n",
    "from sklearn.metrics import classification_report\n",
    "import pandas as pd\n",
    "import joblib"
   ]
  },
  {
   "cell_type": "code",
   "execution_count": 2,
   "id": "b04a6f8c",
   "metadata": {},
   "outputs": [
    {
     "name": "stderr",
     "output_type": "stream",
     "text": [
      "/tmp/ipykernel_70781/175793801.py:1: DtypeWarning: Columns (16) have mixed types. Specify dtype option on import or set low_memory=False.\n",
      "  df = pd.read_csv('data/Chicago_Crimes_All.csv')\n"
     ]
    }
   ],
   "source": [
    "df = pd.read_csv('data/Chicago_Crimes_All.csv')\n",
    "\n",
    "model_df = df.dropna(subset=['Primary Type', 'Hour', 'Arrest', 'Domestic', 'District'])\n",
    "model_df = model_df.copy()\n",
    "model_df['District'] = model_df['District'].astype(str)"
   ]
  },
  {
   "cell_type": "code",
   "execution_count": 3,
   "id": "2cd5ecaa",
   "metadata": {},
   "outputs": [],
   "source": [
    "X = pd.get_dummies(model_df[['Hour', 'Arrest', 'Domestic', 'District']])\n",
    "y = model_df['Primary Type']"
   ]
  },
  {
   "cell_type": "code",
   "execution_count": 4,
   "id": "e4d3bb56",
   "metadata": {},
   "outputs": [],
   "source": [
    "crime_counts = y.value_counts()\n",
    "classes_validas = crime_counts[crime_counts >= 10].index\n",
    "X = X[y.isin(classes_validas)]\n",
    "y = y[y.isin(classes_validas)]"
   ]
  },
  {
   "cell_type": "code",
   "execution_count": 5,
   "id": "aef128fa",
   "metadata": {},
   "outputs": [],
   "source": [
    "X_train, X_test, y_train, y_test = train_test_split(X, y, stratify=y, test_size=0.3, random_state=42)\n",
    "\n",
    "clf = RandomForestClassifier(n_estimators=100, random_state=42)\n",
    "clf.fit(X_train, y_train)\n",
    "y_pred = clf.predict(X_test)"
   ]
  },
  {
   "cell_type": "code",
   "execution_count": 6,
   "id": "8546a0e9",
   "metadata": {},
   "outputs": [
    {
     "name": "stderr",
     "output_type": "stream",
     "text": [
      "/home/lucas/Documentos/Aula/7 Semestre/Data Science/dataScienceProject/venv/lib/python3.10/site-packages/sklearn/metrics/_classification.py:1706: UndefinedMetricWarning: Precision is ill-defined and being set to 0.0 in labels with no predicted samples. Use `zero_division` parameter to control this behavior.\n",
      "  _warn_prf(average, modifier, f\"{metric.capitalize()} is\", result.shape[0])\n",
      "/home/lucas/Documentos/Aula/7 Semestre/Data Science/dataScienceProject/venv/lib/python3.10/site-packages/sklearn/metrics/_classification.py:1706: UndefinedMetricWarning: Precision is ill-defined and being set to 0.0 in labels with no predicted samples. Use `zero_division` parameter to control this behavior.\n",
      "  _warn_prf(average, modifier, f\"{metric.capitalize()} is\", result.shape[0])\n",
      "/home/lucas/Documentos/Aula/7 Semestre/Data Science/dataScienceProject/venv/lib/python3.10/site-packages/sklearn/metrics/_classification.py:1706: UndefinedMetricWarning: Precision is ill-defined and being set to 0.0 in labels with no predicted samples. Use `zero_division` parameter to control this behavior.\n",
      "  _warn_prf(average, modifier, f\"{metric.capitalize()} is\", result.shape[0])\n"
     ]
    },
    {
     "data": {
      "text/plain": [
       "['./models/modelo_rf_on_steroids.pkl']"
      ]
     },
     "execution_count": 6,
     "metadata": {},
     "output_type": "execute_result"
    }
   ],
   "source": [
    "# Relatório do modelo\n",
    "with open(\"figures/classificacao.txt\", \"w\") as f:\n",
    "    f.write(\"Relatório de Classificação - RandomForestClassifier\\n\\n\")\n",
    "    f.write(classification_report(y_test, y_pred))\n",
    "\n",
    "joblib.dump(clf, './models/modelo_rf_on_steroids.pkl')"
   ]
  }
 ],
 "metadata": {
  "kernelspec": {
   "display_name": "venv",
   "language": "python",
   "name": "python3"
  },
  "language_info": {
   "codemirror_mode": {
    "name": "ipython",
    "version": 3
   },
   "file_extension": ".py",
   "mimetype": "text/x-python",
   "name": "python",
   "nbconvert_exporter": "python",
   "pygments_lexer": "ipython3",
   "version": "3.10.12"
  }
 },
 "nbformat": 4,
 "nbformat_minor": 5
}
