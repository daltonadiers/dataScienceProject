{
 "cells": [
  {
   "cell_type": "code",
   "execution_count": 1,
   "id": "cec899da",
   "metadata": {},
   "outputs": [
    {
     "name": "stderr",
     "output_type": "stream",
     "text": [
      "/tmp/ipykernel_34846/1606414062.py:15: DtypeWarning: Columns (16) have mixed types. Specify dtype option on import or set low_memory=False.\n",
      "  df = pd.read_csv('data/Chicago_Crimes_All.csv')\n"
     ]
    }
   ],
   "source": [
    "import lightgbm as lgb\n",
    "import pandas as pd\n",
    "import pickle\n",
    "\n",
    "from sklearn.model_selection import train_test_split\n",
    "from sklearn.metrics import (\n",
    "    accuracy_score,\n",
    "    precision_score,\n",
    "    recall_score,\n",
    "    f1_score,\n",
    "    confusion_matrix,\n",
    "    classification_report\n",
    ")\n",
    "\n",
    "df = pd.read_csv('data/Chicago_Crimes_All.csv')"
   ]
  },
  {
   "cell_type": "code",
   "execution_count": 2,
   "id": "6d06e159",
   "metadata": {},
   "outputs": [
    {
     "data": {
      "text/plain": [
       "Index(['ID', 'Case Number', 'Date', 'Block', 'IUCR', 'Primary Type',\n",
       "       'Description', 'Location Description', 'Arrest', 'Domestic', 'Beat',\n",
       "       'District', 'Ward', 'Community Area', 'FBI Code', 'X Coordinate',\n",
       "       'Y Coordinate', 'Year', 'Updated On', 'Latitude', 'Longitude',\n",
       "       'Location', 'Month', 'Hour', 'Weekday'],\n",
       "      dtype='object')"
      ]
     },
     "execution_count": 2,
     "metadata": {},
     "output_type": "execute_result"
    }
   ],
   "source": [
    "df.columns"
   ]
  },
  {
   "cell_type": "code",
   "execution_count": 3,
   "id": "a5ef1703",
   "metadata": {},
   "outputs": [],
   "source": [
    "# 5) Remover linhas com dados críticos faltando\n",
    "# df.dropna(subset=['Year','Month','Hour','Primary_Type','Arrest'], inplace=True)\n",
    "\n",
    "# 6) Definir X e y (target binário: Arrest)\n",
    "if df['Arrest'].dtype == 'bool':\n",
    "    y = df['Arrest'].astype(int)\n",
    "else:\n",
    "    y = df['Arrest'].map({'True':1,'False':0}).fillna(df['Arrest']).astype(int)\n",
    "X = df.drop(columns=['Arrest'])\n",
    "\n",
    "# 7) Converter object → pandas.Categorical para LightGBM\n",
    "cat_cols = X.select_dtypes(include='object').columns.tolist()\n",
    "for c in cat_cols:\n",
    "    X[c] = X[c].astype('category')\n",
    "\n",
    "# 8) Split treino / validação (estratificado)\n",
    "X_train, X_val, y_train, y_val = train_test_split(\n",
    "    X, y,\n",
    "    test_size=0.2,\n",
    "    stratify=y,\n",
    "    random_state=42\n",
    ")"
   ]
  },
  {
   "cell_type": "code",
   "execution_count": 4,
   "id": "7c49f90a",
   "metadata": {},
   "outputs": [
    {
     "name": "stdout",
     "output_type": "stream",
     "text": [
      "Training until validation scores don't improve for 50 rounds\n",
      "[100]\tvalid_0's binary_logloss: 0.290238\n",
      "[200]\tvalid_0's binary_logloss: 0.286597\n",
      "[300]\tvalid_0's binary_logloss: 0.284944\n",
      "[400]\tvalid_0's binary_logloss: 0.283798\n",
      "[500]\tvalid_0's binary_logloss: 0.282732\n",
      "[600]\tvalid_0's binary_logloss: 0.281959\n",
      "[700]\tvalid_0's binary_logloss: 0.281171\n",
      "[800]\tvalid_0's binary_logloss: 0.280626\n",
      "[900]\tvalid_0's binary_logloss: 0.280186\n",
      "[1000]\tvalid_0's binary_logloss: 0.279756\n",
      "Did not meet early stopping. Best iteration is:\n",
      "[1000]\tvalid_0's binary_logloss: 0.279756\n"
     ]
    }
   ],
   "source": [
    "# 9) Criar lgb.Dataset\n",
    "dtrain = lgb.Dataset(\n",
    "    X_train, label=y_train,\n",
    "    categorical_feature=cat_cols\n",
    ")\n",
    "dval = lgb.Dataset(\n",
    "    X_val, label=y_val,\n",
    "    reference=dtrain,\n",
    "    categorical_feature=cat_cols\n",
    ")\n",
    "\n",
    "# 10) Parâmetros e callbacks (early stopping + log a cada 100 iters)\n",
    "params = {\n",
    "    'objective': 'binary',\n",
    "    'metric': 'binary_logloss',\n",
    "    'learning_rate': 0.05,\n",
    "    'num_leaves': 31,\n",
    "    'verbose': -1,\n",
    "    'seed': 42\n",
    "}\n",
    "\n",
    "bst = lgb.train(\n",
    "    params,\n",
    "    dtrain,\n",
    "    num_boost_round=1000,\n",
    "    valid_sets=[dval],\n",
    "    callbacks=[\n",
    "        lgb.early_stopping(stopping_rounds=50),\n",
    "        lgb.log_evaluation(period=100)\n",
    "    ]\n",
    ")\n",
    "\n",
    "# 11) Avaliação no conjunto de validação\n",
    "y_prob = bst.predict(X_val)\n",
    "y_pred = (y_prob > 0.5).astype(int)"
   ]
  },
  {
   "cell_type": "code",
   "execution_count": 5,
   "id": "dabb679d",
   "metadata": {},
   "outputs": [
    {
     "name": "stdout",
     "output_type": "stream",
     "text": [
      "=== Métricas de Classificação ===\n",
      "Acurácia : 0.8915\n",
      "Precisão : 0.9147\n",
      "Recall   : 0.6803\n",
      "F1-Score : 0.7803\n",
      "\n",
      "Matriz de Confusão:\n",
      " [[1109838   28535]\n",
      " [ 143816  306068]]\n",
      "\n",
      "Relatório Completo:\n",
      "               precision    recall  f1-score   support\n",
      "\n",
      "           0       0.89      0.97      0.93   1138373\n",
      "           1       0.91      0.68      0.78    449884\n",
      "\n",
      "    accuracy                           0.89   1588257\n",
      "   macro avg       0.90      0.83      0.85   1588257\n",
      "weighted avg       0.89      0.89      0.89   1588257\n",
      "\n",
      "\n",
      "Modelo salvo em: models/modelo_lgb.pkl\n"
     ]
    }
   ],
   "source": [
    "print(\"=== Métricas de Classificação ===\")\n",
    "print(f\"Acurácia : {accuracy_score(y_val, y_pred):.4f}\")\n",
    "print(f\"Precisão : {precision_score(y_val, y_pred):.4f}\")\n",
    "print(f\"Recall   : {recall_score(y_val, y_pred):.4f}\")\n",
    "print(f\"F1-Score : {f1_score(y_val, y_pred):.4f}\\n\")\n",
    "print(\"Matriz de Confusão:\\n\", confusion_matrix(y_val, y_pred))\n",
    "print(\"\\nRelatório Completo:\\n\", classification_report(y_val, y_pred))\n",
    "\n",
    "# 12) Exportar modelo + metadados para .pkl\n",
    "output = {\n",
    "    'model': bst,\n",
    "    'cat_cols': cat_cols,\n",
    "    'features': X.columns.tolist()\n",
    "}\n",
    "out_path = 'models/modelo_lgb.pkl'\n",
    "with open(out_path, 'wb') as f:\n",
    "    pickle.dump(output, f)\n",
    "print(f\"\\nModelo salvo em: {out_path}\")\n"
   ]
  }
 ],
 "metadata": {
  "kernelspec": {
   "display_name": "venv",
   "language": "python",
   "name": "python3"
  },
  "language_info": {
   "codemirror_mode": {
    "name": "ipython",
    "version": 3
   },
   "file_extension": ".py",
   "mimetype": "text/x-python",
   "name": "python",
   "nbconvert_exporter": "python",
   "pygments_lexer": "ipython3",
   "version": "3.10.12"
  }
 },
 "nbformat": 4,
 "nbformat_minor": 5
}
